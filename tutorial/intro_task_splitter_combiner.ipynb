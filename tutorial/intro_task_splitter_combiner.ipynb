{
 "cells": [
  {
   "cell_type": "code",
   "execution_count": 1,
   "metadata": {},
   "outputs": [],
   "source": [
    "import nest_asyncio\n",
    "nest_asyncio.apply()\n",
    "import pydra"
   ]
  },
  {
   "cell_type": "markdown",
   "metadata": {},
   "source": [
    "### Introduction to Tasks with States\n",
    "\n",
    "Task might be run for a single set of input values or we can generate multiple sets, that will be called \"states\". In order to create `Task` wit a `State` we have to provide input that is iterable and specify the way how we want to map values of the inputs to the specific states. In order to do it, we use the `split` method and specify `splitter`, for a function with one input, the `splitter` is trivial:"
   ]
  },
  {
   "cell_type": "code",
   "execution_count": 9,
   "metadata": {},
   "outputs": [],
   "source": [
    "@pydra.to_task\n",
    "def add_two(x):\n",
    "    return x + 2\n",
    "\n",
    "task1 = add_two(name=\"add_two\", x=[1, 2]).split(splitter=\"x\")\n",
    "task1(plugin=\"cf\")"
   ]
  },
  {
   "cell_type": "markdown",
   "metadata": {},
   "source": [
    "We can now check the results of our task:"
   ]
  },
  {
   "cell_type": "code",
   "execution_count": 10,
   "metadata": {},
   "outputs": [
    {
     "data": {
      "text/plain": [
       "[Result(output=Output(out=3), runtime=None, errored=False),\n",
       " Result(output=Output(out=4), runtime=None, errored=False)]"
      ]
     },
     "execution_count": 10,
     "metadata": {},
     "output_type": "execute_result"
    }
   ],
   "source": [
    "task1.result()"
   ]
  },
  {
   "cell_type": "markdown",
   "metadata": {},
   "source": [
    "As we could expect, the result now contains two elements, one for each value of `State`, i.e. for each value of `x` in this exampel."
   ]
  },
  {
   "cell_type": "markdown",
   "metadata": {},
   "source": [
    "Now, we can try to run function with multiple inputs:"
   ]
  },
  {
   "cell_type": "code",
   "execution_count": 8,
   "metadata": {},
   "outputs": [],
   "source": [
    "@pydra.to_task\n",
    "def add_var(a, b):\n",
    "    return a + b"
   ]
  },
  {
   "cell_type": "markdown",
   "metadata": {},
   "source": [
    "Now we have more options to use splitter, it depends on the input and on our application. We could have `a` that is a single value and `b` that is a list:"
   ]
  },
  {
   "cell_type": "code",
   "execution_count": 14,
   "metadata": {},
   "outputs": [
    {
     "data": {
      "text/plain": [
       "[Result(output=Output(out=101), runtime=None, errored=False),\n",
       " Result(output=Output(out=102), runtime=None, errored=False)]"
      ]
     },
     "execution_count": 14,
     "metadata": {},
     "output_type": "execute_result"
    }
   ],
   "source": [
    "task2 = add_var(name=\"addvar1\", a=100, b=[1,2]).split(splitter=\"b\")\n",
    "task2(plugin=\"cf\")\n",
    "task2.result()"
   ]
  },
  {
   "cell_type": "markdown",
   "metadata": {},
   "source": [
    "As in the previous example, our result contains two elements.\n",
    "\n",
    "Now we can imagine that both, `a` and `b` are a two elements lists."
   ]
  },
  {
   "cell_type": "code",
   "execution_count": 15,
   "metadata": {},
   "outputs": [],
   "source": [
    "task3 = add_var(name=\"addvar1\", a=[10, 100], b=[1, 2])"
   ]
  },
  {
   "cell_type": "markdown",
   "metadata": {},
   "source": [
    "Now, we have two options to map the values, we might want to run the task for two sets of values: (`a`=10, `b`=1) and (`a`=100, `b`=2), or we might want to run the task for four sets: (`a`=10, `b`=1), (`a`=10, `b`=2), (`a`=100, `b`=1) and (`a`=100, `b`=2). \n",
    "\n",
    "The first situation will be represented by \"scalar\" splitter, the later by the \"outer\" splitter. \n",
    "\n",
    "Let's start from the scalar splitter, that uses parentheses in syntax:"
   ]
  },
  {
   "cell_type": "code",
   "execution_count": 16,
   "metadata": {},
   "outputs": [
    {
     "data": {
      "text/plain": [
       "[Result(output=Output(out=11), runtime=None, errored=False),\n",
       " Result(output=Output(out=102), runtime=None, errored=False)]"
      ]
     },
     "execution_count": 16,
     "metadata": {},
     "output_type": "execute_result"
    }
   ],
   "source": [
    "task3.split(splitter=(\"a\", \"b\"))\n",
    "task3(plugin=\"cf\")\n",
    "task3.result()"
   ]
  },
  {
   "cell_type": "markdown",
   "metadata": {},
   "source": [
    "As we expected, we have `10+1=11` and `100+2=102`. \n",
    "\n",
    "For the outer splitter we will use brackets:"
   ]
  },
  {
   "cell_type": "code",
   "execution_count": 18,
   "metadata": {},
   "outputs": [
    {
     "data": {
      "text/plain": [
       "[Result(output=Output(out=11), runtime=None, errored=False),\n",
       " Result(output=Output(out=12), runtime=None, errored=False),\n",
       " Result(output=Output(out=101), runtime=None, errored=False),\n",
       " Result(output=Output(out=102), runtime=None, errored=False)]"
      ]
     },
     "execution_count": 18,
     "metadata": {},
     "output_type": "execute_result"
    }
   ],
   "source": [
    "task4 = add_var(name=\"addvar1\", a=[10, 100], b=[1, 2])\n",
    "task4.split(splitter=[\"a\", \"b\"])\n",
    "task4(plugin=\"cf\")\n",
    "task4.result()"
   ]
  },
  {
   "cell_type": "markdown",
   "metadata": {},
   "source": [
    "Now, we have results for all of the combination of values of `a` and `b`.\n",
    "\n",
    "For more inputs we can create more complex splitter by using scalar and outer products. Note, that the scalar splitter can only work for lists that have the same length, but the outer splitter doesn't have this limitation. Let's run one more example:"
   ]
  },
  {
   "cell_type": "code",
   "execution_count": 21,
   "metadata": {},
   "outputs": [
    {
     "data": {
      "text/plain": [
       "[Result(output=Output(x=20, y=11), runtime=None, errored=False),\n",
       " Result(output=Output(x=30, y=21), runtime=None, errored=False),\n",
       " Result(output=Output(x=40, y=31), runtime=None, errored=False),\n",
       " Result(output=Output(x=30, y=12), runtime=None, errored=False),\n",
       " Result(output=Output(x=40, y=22), runtime=None, errored=False),\n",
       " Result(output=Output(x=50, y=32), runtime=None, errored=False)]"
      ]
     },
     "execution_count": 21,
     "metadata": {},
     "output_type": "execute_result"
    }
   ],
   "source": [
    "@pydra.to_task\n",
    "def add_vector(x1, y1, x2, y2):\n",
    "    return (x1 + x2, y1 + y2)\n",
    "\n",
    "task5 = add_vector(name=\"add_vect\", output_names=[\"x\", \"y\"], \n",
    "                   x1=[10, 20], y1=[1, 2], x2=[10, 20, 30], y2=[10, 20, 30])\n",
    "task5.split(splitter=[(\"x1\", \"y1\"), (\"x2\", \"y2\")])\n",
    "task5(plugin=\"cf\")\n",
    "task5.result()"
   ]
  },
  {
   "cell_type": "markdown",
   "metadata": {},
   "source": [
    "#### combining teh output\n",
    "\n",
    "We could also combine specific outputs after using the `split` method. In order to do it, we can use `combine` method.\n",
    "\n",
    "Let's say we want to calculate squares and cubes of integers and combine separately all squareas and all cubes: "
   ]
  },
  {
   "cell_type": "code",
   "execution_count": 29,
   "metadata": {},
   "outputs": [
    {
     "data": {
      "text/plain": [
       "[[Result(output=Output(out=1), runtime=None, errored=False),\n",
       "  Result(output=Output(out=4), runtime=None, errored=False),\n",
       "  Result(output=Output(out=9), runtime=None, errored=False),\n",
       "  Result(output=Output(out=16), runtime=None, errored=False)],\n",
       " [Result(output=Output(out=1), runtime=None, errored=False),\n",
       "  Result(output=Output(out=8), runtime=None, errored=False),\n",
       "  Result(output=Output(out=27), runtime=None, errored=False),\n",
       "  Result(output=Output(out=64), runtime=None, errored=False)]]"
      ]
     },
     "execution_count": 29,
     "metadata": {},
     "output_type": "execute_result"
    }
   ],
   "source": [
    "@pydra.to_task\n",
    "def power(x, n):\n",
    "    return x**n\n",
    "\n",
    "task6 = power(name=\"power\", x=[1, 2, 3, 4], n=[2, 3]).split(splitter=[\"x\", \"n\"]).combine(\"x\")\n",
    "task6(plugin=\"cf\")\n",
    "task6.result()"
   ]
  },
  {
   "cell_type": "markdown",
   "metadata": {},
   "source": [
    "Now, our result contains two list, the first one is for squares, the second for cubes."
   ]
  },
  {
   "cell_type": "code",
   "execution_count": 31,
   "metadata": {},
   "outputs": [
    {
     "name": "stdout",
     "output_type": "stream",
     "text": [
      "squares: [1, 4, 9, 16]\n",
      "cubes: [1, 8, 27, 64]\n"
     ]
    }
   ],
   "source": [
    "squares_list = [el.output.out for el in task6.result()[0]]\n",
    "cubes_list = [el.output.out for el in task6.result()[1]]\n",
    "print(f\"squares: {squares_list}\")\n",
    "print(f\"cubes: {cubes_list}\")"
   ]
  },
  {
   "cell_type": "code",
   "execution_count": null,
   "metadata": {},
   "outputs": [],
   "source": []
  }
 ],
 "metadata": {
  "kernelspec": {
   "display_name": "Python 3",
   "language": "python",
   "name": "python3"
  },
  "language_info": {
   "codemirror_mode": {
    "name": "ipython",
    "version": 3
   },
   "file_extension": ".py",
   "mimetype": "text/x-python",
   "name": "python",
   "nbconvert_exporter": "python",
   "pygments_lexer": "ipython3",
   "version": "3.7.3"
  }
 },
 "nbformat": 4,
 "nbformat_minor": 2
}
